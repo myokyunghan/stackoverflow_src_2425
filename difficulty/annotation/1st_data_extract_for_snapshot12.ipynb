{
 "cells": [
  {
   "cell_type": "markdown",
   "metadata": {},
   "source": [
    "![Image](./snapshot_strategy.png)"
   ]
  },
  {
   "cell_type": "code",
   "execution_count": 1,
   "metadata": {},
   "outputs": [],
   "source": [
    "file_pre = '1st'"
   ]
  },
  {
   "cell_type": "code",
   "execution_count": 2,
   "metadata": {},
   "outputs": [],
   "source": [
    "import sys, os\n",
    "p = os.path.abspath('..')\n",
    "pp = os.path.abspath('../..')\n",
    "# p = p+r'\\config'\n",
    "sys.path.insert(1, p)\n",
    "sys.path.insert(1, pp)"
   ]
  },
  {
   "cell_type": "code",
   "execution_count": 3,
   "metadata": {},
   "outputs": [],
   "source": [
    "import psycopg2\n",
    "import pandas as pd\n",
    "import numpy as np\n",
    "import config.config as conf\n",
    "import pickle\n",
    "import lib.preprocess.preprocess as pp\n",
    "import lib.preprocess.SectionExtractor as se\n",
    "import re\n",
    "import datetime"
   ]
  },
  {
   "cell_type": "code",
   "execution_count": 4,
   "metadata": {},
   "outputs": [],
   "source": [
    "htmlp = pp.HTMLParser()\n",
    "codep = pp.CodeSectionParser()\n",
    "ts = se.SectionExtractor()"
   ]
  },
  {
   "cell_type": "code",
   "execution_count": 5,
   "metadata": {},
   "outputs": [],
   "source": [
    "q_sql_2223 = \"\"\"select a.id \n",
    "                , a.creationdate\n",
    "                , a.title\n",
    "                , b.body\n",
    "            from posts a \n",
    "               , postsbody b\n",
    "            where a.id = b.id\n",
    "              and a.creationdate between '2021-11-30' and '2023-12-01' \n",
    "              and a.posttypeid = '1'\n",
    "              and a.tags like '%<python>%' \n",
    "              and not exists(select 1 \n",
    "                                    from tt_posts_difficulty_annotated x \n",
    "                                where a.id = x.id)\n",
    "              and not exists(select 1 \n",
    "                                    from tt_posts_difficulty_done xx \n",
    "                                where a.id = xx.id)\n",
    "\"\"\""
   ]
  },
  {
   "cell_type": "code",
   "execution_count": 6,
   "metadata": {},
   "outputs": [],
   "source": [
    "q_sql_2324 = \"\"\"select a.id \n",
    "                , a.creationdate\n",
    "                , a.title\n",
    "                , b.body\n",
    "            from public_for_2324.posts a \n",
    "               , public_for_2324.postsbody b\n",
    "            where a.id = b.id\n",
    "              and a.creationdate between '2021-11-30' and '2024-12-03' \n",
    "              and a.posttypeid = '1'\n",
    "              and a.tags like '%<python>%' \n",
    "              and not exists(select 1 \n",
    "                                    from tt_posts_difficulty_annotated x \n",
    "                                where a.id = x.id)\n",
    "              and not exists(select 1 \n",
    "                                    from tt_posts_difficulty_done xx \n",
    "                                where a.id = xx.id)\n",
    "\"\"\""
   ]
  },
  {
   "cell_type": "code",
   "execution_count": null,
   "metadata": {},
   "outputs": [],
   "source": [
    "conn = psycopg2.connect(host = conf.database_user['host'], dbname=conf.database_user['dbname'], user=conf.database_user['user'], password=conf.database_user['password'])\n",
    "try:\n",
    "    cur = conn.cursor()\n",
    "    cur.execute(q_sql_2223)\n",
    "    rows = cur.fetchall()\n",
    "    \n",
    "\n",
    "except psycopg2.DatabaseError as db_err:\n",
    "    print(db_err)\n",
    "finally : \n",
    "  cur.close()"
   ]
  },
  {
   "cell_type": "code",
   "execution_count": null,
   "metadata": {},
   "outputs": [],
   "source": [
    "q_output_for_2223 = pd.DataFrame(rows, columns = [\n",
    "  'id'\n",
    "  ,'creationdate'\n",
    "  ,'title'\n",
    "  , 'body'\n",
    "])\n"
   ]
  },
  {
   "cell_type": "code",
   "execution_count": null,
   "metadata": {},
   "outputs": [],
   "source": [
    "q_output_for_2223['22_yn'] = np.where(pd.to_datetime(q_output_for_2223['creationdate']).dt.date < datetime.date(2022, 12, 1), 1, 0)\n",
    "\n",
    "q_output_for_2223_22 = q_output_for_2223.loc[q_output_for_2223['22_yn'] == 1, :]\n",
    "q_output_for_2223_23 = q_output_for_2223.loc[q_output_for_2223['22_yn'] == 0, :]\n",
    "# first_ann_q_id = np.random.choice(list(q_output['id']), size=30, replace=False)"
   ]
  },
  {
   "cell_type": "code",
   "execution_count": null,
   "metadata": {},
   "outputs": [],
   "source": [
    "qid_for_2223_22 = np.random.choice(list(q_output_for_2223_22['id']), size=54, replace=False)\n",
    "qid_for_2223_23 = np.random.choice(list(q_output_for_2223_23['id']), size=54, replace=False)"
   ]
  },
  {
   "cell_type": "code",
   "execution_count": null,
   "metadata": {},
   "outputs": [],
   "source": [
    "conn = psycopg2.connect(host = conf.database_user['host'], dbname=conf.database_user['dbname'], user=conf.database_user['user'], password=conf.database_user['password'])\n",
    "try:\n",
    "    cur = conn.cursor()\n",
    "    cur.execute(q_sql_2324)\n",
    "    rows = cur.fetchall()\n",
    "    \n",
    "\n",
    "except psycopg2.DatabaseError as db_err:\n",
    "    print(db_err)\n",
    "finally : \n",
    "  cur.close()"
   ]
  },
  {
   "cell_type": "code",
   "execution_count": null,
   "metadata": {},
   "outputs": [],
   "source": [
    "q_output_for_2324 = pd.DataFrame(rows, columns = [\n",
    "  'id'\n",
    "  ,'creationdate'\n",
    "  ,'title'\n",
    "  , 'body'\n",
    "])\n"
   ]
  },
  {
   "cell_type": "code",
   "execution_count": null,
   "metadata": {},
   "outputs": [],
   "source": [
    "q_output_for_2324['22_yn'] = np.where(pd.to_datetime(q_output_for_2324['creationdate']).dt.date < datetime.date(2022, 12, 1), 1, 0)\n",
    "q_output_for_2324['23_yn'] = np.where((pd.to_datetime(q_output_for_2324['creationdate']).dt.date < datetime.date(2023, 12, 2)) & (q_output_for_2324['22_yn'] ==0), 1, 0)\n",
    "q_output_for_2324['24_yn'] = np.where(pd.to_datetime(q_output_for_2324['creationdate']).dt.date >= datetime.date(2023, 12, 2), 1, 0)\n",
    "\n",
    "print(q_output_for_2324.loc[q_output_for_2324['22_yn'] ==1, 'creationdate'].min())\n",
    "print(q_output_for_2324.loc[q_output_for_2324['22_yn'] ==1, 'creationdate'].max())\n",
    "\n",
    "print(q_output_for_2324.loc[q_output_for_2324['23_yn'] ==1, 'creationdate'].min())\n",
    "print(q_output_for_2324.loc[q_output_for_2324['23_yn'] ==1, 'creationdate'].max())\n",
    "\n",
    "print(q_output_for_2324.loc[q_output_for_2324['24_yn'] ==1, 'creationdate'].min())\n",
    "print(q_output_for_2324.loc[q_output_for_2324['24_yn'] ==1, 'creationdate'].max())\n",
    "\n",
    "# q_output_for_2223_22 = q_output_for_2223.loc[q_output_for_2223['22_yn'] == 1, :]\n",
    "# q_output_for_2223_23 = q_output_for_2223.loc[q_output_for_2223['22_yn'] == 0, :]\n",
    "# first_ann_q_id = np.random.choice(list(q_output['id']), size=30, replace=False)"
   ]
  },
  {
   "cell_type": "code",
   "execution_count": null,
   "metadata": {},
   "outputs": [],
   "source": [
    "q_output_for_2324_22 = q_output_for_2324.loc[q_output_for_2324['22_yn'] == 1, :]\n",
    "q_output_for_2324_23 = q_output_for_2324.loc[q_output_for_2324['23_yn'] == 1, :]\n",
    "q_output_for_2324_24 = q_output_for_2324.loc[q_output_for_2324['24_yn'] == 1, :]"
   ]
  },
  {
   "cell_type": "code",
   "execution_count": null,
   "metadata": {},
   "outputs": [],
   "source": [
    "print(q_output_for_2324_22['creationdate'].min())\n",
    "print(q_output_for_2324_22['creationdate'].max())\n",
    "\n",
    "print(q_output_for_2324_23['creationdate'].min())\n",
    "print(q_output_for_2324_23['creationdate'].max())\n",
    "\n",
    "print(q_output_for_2324_24['creationdate'].min())\n",
    "print(q_output_for_2324_24['creationdate'].max())"
   ]
  },
  {
   "cell_type": "code",
   "execution_count": null,
   "metadata": {},
   "outputs": [],
   "source": [
    "qid_for_2324_22 = np.random.choice(list(q_output_for_2324_22['id']), size=36, replace=False)\n",
    "qid_for_2324_23 = np.random.choice(list(q_output_for_2324_23['id']), size=36, replace=False)\n",
    "qid_for_2324_24 = np.random.choice(list(q_output_for_2324_24['id']), size=36, replace=False)"
   ]
  },
  {
   "cell_type": "code",
   "execution_count": null,
   "metadata": {},
   "outputs": [],
   "source": [
    "def chg_tag(code):\n",
    "    st_pattern = r'<pre(?: class=\"[^\"]*\")?><code>'\n",
    "    st_dst = \"```python\\n\"\n",
    "    code = re.sub(st_pattern, st_dst, code, count=0, flags=0)\n",
    "    \n",
    "    end_dst = \"```\"\n",
    "    end_pattern =r'</code></pre>'\n",
    "    code = re.sub(end_pattern, end_dst, code, count=0, flags=0)\n",
    "    return code\n",
    "                                                "
   ]
  },
  {
   "cell_type": "code",
   "execution_count": null,
   "metadata": {},
   "outputs": [],
   "source": [
    "def clean_code_df(q_output, q_list):\n",
    "    q_output_copy = q_output[q_output['id'].isin(q_list)].copy()\n",
    "    q_output_copy['t_body'] = q_output_copy['body'].apply(chg_tag)\n",
    "    q_output_copy['clean_body'] = q_output_copy['t_body'].apply(lambda x : htmlp.get_html_cleaned_str(x))\n",
    "    q_output_copy['clean_body'] = q_output_copy['clean_body'].apply(lambda x:  re.sub(r\";(?=\\S)\", \"\", x))\n",
    "    q_output_copy['question'] = \"\"\"<Title>\"\"\"+q_output_copy['title'].map(str)+\"\"\"</Title>. <Question>\"\"\"+q_output_copy['clean_body'].map(str)+\"\"\"</Question> Let's think through the difficulty of question carefully, step by step. \"\"\"\n",
    "    return q_output_copy\n"
   ]
  },
  {
   "cell_type": "code",
   "execution_count": null,
   "metadata": {},
   "outputs": [],
   "source": [
    "pp_2324_22 = clean_code_df(q_output_for_2223_22, qid_for_2223_22)\n",
    "pp_2324_22 = clean_code_df(q_output_for_2223_23, qid_for_2223_23)\n",
    "\n",
    "pp_2324_22 = clean_code_df(q_output_for_2324_22, qid_for_2324_22)\n",
    "pp_2324_23 = clean_code_df(q_output_for_2324_23, qid_for_2324_23)\n",
    "pp_2324_24 = clean_code_df(q_output_for_2324_24, qid_for_2324_24)"
   ]
  },
  {
   "cell_type": "code",
   "execution_count": null,
   "metadata": {},
   "outputs": [],
   "source": [
    "snapshop1_sample = pd.concat((pp_2324_22[['id', 'question']], pp_2324_22[['id', 'question']]))\n",
    "snapshop2_sample = pd.concat((pp_2324_22[['id', 'question']], pp_2324_23[['id', 'question']], pp_2324_24[['id', 'question']]))"
   ]
  },
  {
   "cell_type": "code",
   "execution_count": null,
   "metadata": {},
   "outputs": [],
   "source": [
    "snapshop1_sample[['id', 'question']].to_csv(f'./{file_pre}_snapshop1_sample.csv')\n",
    "snapshop2_sample[['id', 'question']].to_csv(f'./{file_pre}_snapshop2_sample.csv')"
   ]
  },
  {
   "cell_type": "code",
   "execution_count": null,
   "metadata": {},
   "outputs": [],
   "source": []
  }
 ],
 "metadata": {
  "kernelspec": {
   "display_name": "venv_stackoverflow_src",
   "language": "python",
   "name": "python3"
  },
  "language_info": {
   "codemirror_mode": {
    "name": "ipython",
    "version": 3
   },
   "file_extension": ".py",
   "mimetype": "text/x-python",
   "name": "python",
   "nbconvert_exporter": "python",
   "pygments_lexer": "ipython3",
   "version": "3.10.12"
  }
 },
 "nbformat": 4,
 "nbformat_minor": 2
}
